{
 "cells": [
  {
   "cell_type": "markdown",
   "metadata": {},
   "source": [
    "<a href=\"https://colab.research.google.com/github/rabin1323/Artificial_Lab/blob/main/Hello_Jupyter.ipynb\">\n",
    "  <img src=\"https://colab.research.google.com/assets/colab-badge.svg\" alt=\"Open In Colab\"/>\n",
    "</a>\n"
   ]
  },
  {
   "cell_type": "markdown",
   "metadata": {},
   "source": [
    "# Hellow Jupyter and Google Collab Introduction:"
   ]
  },
  {
   "cell_type": "markdown",
   "metadata": {},
   "source": [
    "### This code will print all the primary numbers between two numbers that will be entered by user"
   ]
  },
  {
   "cell_type": "code",
   "execution_count": null,
   "metadata": {},
   "outputs": [
    {
     "name": "stdout",
     "output_type": "stream",
     "text": [
      "Enter the lower number: 5\n",
      "Enter the upper number number: 30\n",
      "Prime numbers between  5  and  30  are  :\n",
      "7\n",
      "11\n",
      "13\n",
      "17\n",
      "19\n",
      "23\n",
      "29\n"
     ]
    }
   ],
   "source": [
    "\n",
    "'''Just to make sure, this program will print prime numbers between the interval excluding lower limit and upper limit:\n",
    "Function for creating condition for Prime number:'''\n",
    "\n",
    "def prime_valid(n):\n",
    "    for i in range(2, n):\n",
    "        if n % i == 0:\n",
    "            return False\n",
    "    return n > 1\n",
    "\n",
    "#Function for finding the prime number between numbers:\n",
    "def process():\n",
    "    choice = 's'\n",
    "    while choice == 's' or choice=='S':\n",
    "        lower = int(input(\"Enter the lower number: \"))\n",
    "        upper = int(input(\"Enter the upper number number: \"))\n",
    "        \n",
    "        if(upper<2):# there is no prime number between any lower limit which is bounded by upper limit <0;\n",
    "            upper= int(input(\"Upper limit cannot be less than 2: try another upper value:\"))\n",
    "        \n",
    "        if(upper-lower==1):\n",
    "            print(\"There are no Prime numbers between \", lower,\" and \",upper)\n",
    "        else:\n",
    "            print(\"Prime numbers between \",(lower), \" and \",(upper), \" are  :\")\n",
    "        num = lower+1\n",
    "        while num < upper:\n",
    "            if prime_valid(num):\n",
    "                print(num)\n",
    "            num += 1\n",
    "        choice = input(\"Do you want to try agian (s/n) ?: \")\n",
    "\n",
    "#calling the function for displaying the result:\n",
    "process()"
   ]
  },
  {
   "cell_type": "markdown",
   "metadata": {},
   "source": [
    "### The follwoing python code uses pandas to load the flat file "
   ]
  },
  {
   "cell_type": "code",
   "execution_count": 8,
   "metadata": {},
   "outputs": [
    {
     "name": "stdout",
     "output_type": "stream",
     "text": [
      "      CAMIS                                 DBA       BORO BUILDING  \\\n",
      "0  50095136                           ETIQUETTE   Brooklyn       53   \n",
      "1  41653405                             JUBILEE  Manhattan   946948   \n",
      "2  50001956          GOLDEN FOUNTAIN RESTAURANT      Bronx     3925   \n",
      "3  41690699                           NEW OCEAN  Manhattan      393   \n",
      "4  50070818  MOVE WITH GRACE YOGA AND JUICE BAR   Brooklyn      431   \n",
      "\n",
      "              STREET  ZIPCODE       PHONE             CUISINE DESCRIPTION  \\\n",
      "0           BROADWAY  11249.0  6465153858                      Coffee/Tea   \n",
      "1            1ST AVE      NaN  2128883569                          French   \n",
      "2  BAYCHESTER AVENUE  10466.0  6465714615                       Caribbean   \n",
      "3       LENOX AVENUE  10027.0  2122899293                         Chinese   \n",
      "4      MYRTLE AVENUE  11205.0  7182300013  Juice, Smoothies, Fruit Salads   \n",
      "\n",
      "  INSPECTION DATE                                           ACTION  ...  \\\n",
      "0      08/16/2019  Violations were cited in the following area(s).  ...   \n",
      "1      08/22/2019  Violations were cited in the following area(s).  ...   \n",
      "2      02/24/2020  Violations were cited in the following area(s).  ...   \n",
      "3      07/24/2017  Violations were cited in the following area(s).  ...   \n",
      "4      03/22/2019  Violations were cited in the following area(s).  ...   \n",
      "\n",
      "  RECORD DATE                                INSPECTION TYPE   Latitude  \\\n",
      "0  09/30/2021  Pre-permit (Operational) / Initial Inspection  40.710607   \n",
      "1  09/30/2021          Cycle Inspection / Initial Inspection   0.000000   \n",
      "2  09/30/2021          Cycle Inspection / Initial Inspection  40.888997   \n",
      "3  09/30/2021          Cycle Inspection / Initial Inspection  40.810803   \n",
      "4  09/30/2021          Cycle Inspection / Initial Inspection  40.693170   \n",
      "\n",
      "   Longitude Community Board Council District Census Tract        BIN  \\\n",
      "0 -73.966581           301.0             34.0      54900.0  3413222.0   \n",
      "1   0.000000             NaN              NaN          NaN        NaN   \n",
      "2 -73.842179           212.0             12.0      42600.0  2066573.0   \n",
      "3 -73.943280           110.0              9.0      22400.0  1079507.0   \n",
      "4 -73.968367           302.0             35.0      19100.0  3054300.0   \n",
      "\n",
      "            BBL   NTA  \n",
      "0  3.024708e+09  BK73  \n",
      "1  1.000000e+00   NaN  \n",
      "2  2.049540e+09  BX62  \n",
      "3  1.019140e+09  MN03  \n",
      "4  3.018880e+09  BK69  \n",
      "\n",
      "[5 rows x 26 columns]\n"
     ]
    }
   ],
   "source": [
    "import pandas as pd\n",
    "\n",
    "#Reading first 1000 rows from the flat file\n",
    "data = pd.read_csv ('Hinspection.csv', nrows = 1000)\n",
    "\n",
    "#Printing first few lines of the data\n",
    "print (data.head())"
   ]
  },
  {
   "cell_type": "code",
   "execution_count": null,
   "metadata": {},
   "outputs": [],
   "source": []
  }
 ],
 "metadata": {
  "kernelspec": {
   "display_name": "Python 3",
   "language": "python",
   "name": "python3"
  },
  "language_info": {
   "codemirror_mode": {
    "name": "ipython",
    "version": 3
   },
   "file_extension": ".py",
   "mimetype": "text/x-python",
   "name": "python",
   "nbconvert_exporter": "python",
   "pygments_lexer": "ipython3",
   "version": "3.7.4"
  }
 },
 "nbformat": 4,
 "nbformat_minor": 2
}
